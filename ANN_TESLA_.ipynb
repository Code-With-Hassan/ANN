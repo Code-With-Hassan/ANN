{
  "nbformat": 4,
  "nbformat_minor": 0,
  "metadata": {
    "colab": {
      "name": "ANN TESLA .ipynb",
      "provenance": [],
      "collapsed_sections": [],
      "include_colab_link": true
    },
    "kernelspec": {
      "name": "python3",
      "display_name": "Python 3"
    },
    "language_info": {
      "name": "python"
    }
  },
  "cells": [
    {
      "cell_type": "markdown",
      "metadata": {
        "id": "view-in-github",
        "colab_type": "text"
      },
      "source": [
        "<a href=\"https://colab.research.google.com/github/Code-With-Hassan/ANN/blob/main/ANN_TESLA_.ipynb\" target=\"_parent\"><img src=\"https://colab.research.google.com/assets/colab-badge.svg\" alt=\"Open In Colab\"/></a>"
      ]
    },
    {
      "cell_type": "code",
      "execution_count": 66,
      "metadata": {
        "id": "O_tPXfelUSOq"
      },
      "outputs": [],
      "source": [
        "import numpy as np\n",
        "import pandas as pd\n",
        "import tensorflow as tf\n",
        "from sklearn.compose import ColumnTransformer\n",
        "from sklearn.preprocessing import OneHotEncoder\n",
        "from sklearn.preprocessing import LabelEncoder\n",
        "from sklearn.model_selection import train_test_split\n",
        "from sklearn.preprocessing import StandardScaler\n",
        "from sklearn.metrics import confusion_matrix, accuracy_score\n",
        "\n",
        "import matplotlib.pyplot as plt\n",
        "plt.style.use('bmh')"
      ]
    },
    {
      "cell_type": "code",
      "source": [
        "#load data\n",
        "from google.colab import files \n",
        "uploaded = files.upload()"
      ],
      "metadata": {
        "colab": {
          "resources": {
            "http://localhost:8080/nbextensions/google.colab/files.js": {
              "data": "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",
              "ok": true,
              "headers": [
                [
                  "content-type",
                  "application/javascript"
                ]
              ],
              "status": 200,
              "status_text": ""
            }
          },
          "base_uri": "https://localhost:8080/",
          "height": 74
        },
        "id": "1c_6JOSQUqJZ",
        "outputId": "9e00c219-bf1e-4cd0-a1e6-4b3656121fb5"
      },
      "execution_count": 129,
      "outputs": [
        {
          "output_type": "display_data",
          "data": {
            "text/html": [
              "\n",
              "     <input type=\"file\" id=\"files-a5442c59-a87f-480f-a60e-4e467f6547e9\" name=\"files[]\" multiple disabled\n",
              "        style=\"border:none\" />\n",
              "     <output id=\"result-a5442c59-a87f-480f-a60e-4e467f6547e9\">\n",
              "      Upload widget is only available when the cell has been executed in the\n",
              "      current browser session. Please rerun this cell to enable.\n",
              "      </output>\n",
              "      <script src=\"/nbextensions/google.colab/files.js\"></script> "
            ],
            "text/plain": [
              "<IPython.core.display.HTML object>"
            ]
          },
          "metadata": {}
        },
        {
          "output_type": "stream",
          "name": "stdout",
          "text": [
            "Saving TESLA.csv to TESLA (3).csv\n"
          ]
        }
      ]
    },
    {
      "cell_type": "code",
      "source": [
        "#store the data into data frame \n",
        "df = pd.read_csv('TESLA (3).csv')\n",
        "\n",
        "df = df.iloc[:,1:]\n",
        "df.shape"
      ],
      "metadata": {
        "id": "7X6Y6cxSU-k5"
      },
      "execution_count": null,
      "outputs": []
    },
    {
      "cell_type": "code",
      "source": [
        "#get the numbers of trading days \n",
        "df.shape"
      ],
      "metadata": {
        "colab": {
          "base_uri": "https://localhost:8080/"
        },
        "id": "vfvMuIazV30N",
        "outputId": "7e28f5eb-5899-443c-d032-4093f6588bbe"
      },
      "execution_count": 131,
      "outputs": [
        {
          "output_type": "execute_result",
          "data": {
            "text/plain": [
              "(10080, 7)"
            ]
          },
          "metadata": {},
          "execution_count": 131
        }
      ]
    },
    {
      "cell_type": "code",
      "source": [
        "#visualize the close price data \n",
        "plt.figure(figsize=(16,8))\n",
        "plt.title('Tesla')\n",
        "plt.xlabel('Days')\n",
        "plt.ylabel('close price USD ($)')\n",
        "plt.plot(df[\"Closing*\"])\n",
        "plt.show()"
      ],
      "metadata": {
        "id": "qCND9QyvV9L5"
      },
      "execution_count": null,
      "outputs": []
    },
    {
      "cell_type": "code",
      "source": [
        "# df = df[['Closing*']]\n",
        "# df.head(6)"
      ],
      "metadata": {
        "id": "ZdB5S3zR80SZ"
      },
      "execution_count": null,
      "outputs": []
    },
    {
      "cell_type": "code",
      "source": [
        "#  create a veriable to predict 'X' days out into the future\n",
        "future_days = 50\n",
        "#  create a new column (target) shifted 'X' Units/days up\n",
        "df['prediction'] = df[['Closing*']].shift(-future_days)"
      ],
      "metadata": {
        "id": "ciKqg5oVW112"
      },
      "execution_count": 134,
      "outputs": []
    },
    {
      "cell_type": "code",
      "source": [
        "#Create the future data set (X) and convert it to a numpy array and remove the last 'x'rows/days\n",
        "x = np.array(df.drop(['prediction'], 1))[:-future_days]\n",
        "print(x)\n"
      ],
      "metadata": {
        "colab": {
          "base_uri": "https://localhost:8080/"
        },
        "id": "_pNdR79V8_Jh",
        "outputId": "104a063f-b415-41f5-d966-ca18be69db77"
      },
      "execution_count": 135,
      "outputs": [
        {
          "output_type": "stream",
          "name": "stdout",
          "text": [
            "[[1.6574e+02 1.6465e+02 1.6490e+02 ... 2.9020e+05 0.0000e+00 0.0000e+00]\n",
            " [1.6474e+02 1.6354e+02 1.6440e+02 ... 2.9540e+05 0.0000e+00 0.0000e+00]\n",
            " [1.6531e+02 1.6359e+02 1.6502e+02 ... 2.5610e+05 0.0000e+00 0.0000e+00]\n",
            " ...\n",
            " [1.9829e+02 1.9547e+02 1.9731e+02 ... 8.7600e+04 0.0000e+00 0.0000e+00]\n",
            " [1.9997e+02 1.9600e+02 1.9929e+02 ... 2.1550e+05 0.0000e+00 0.0000e+00]\n",
            " [1.9855e+02 1.9431e+02 1.9551e+02 ... 1.8970e+05 0.0000e+00 0.0000e+00]]\n"
          ]
        },
        {
          "output_type": "stream",
          "name": "stderr",
          "text": [
            "/usr/local/lib/python3.7/dist-packages/ipykernel_launcher.py:2: FutureWarning: In a future version of pandas all arguments of DataFrame.drop except for the argument 'labels' will be keyword-only\n",
            "  \n"
          ]
        }
      ]
    },
    {
      "cell_type": "code",
      "source": [
        "y = np.array(df['prediction'])[:-future_days]\n",
        "print(y)"
      ],
      "metadata": {
        "colab": {
          "base_uri": "https://localhost:8080/"
        },
        "id": "_oC_9uZQ-AgE",
        "outputId": "7f9f77b7-34b1-4557-f913-c04438176cbb"
      },
      "execution_count": 136,
      "outputs": [
        {
          "output_type": "stream",
          "name": "stdout",
          "text": [
            "[172.26 172.48 168.05 ... 202.2  207.09 208.  ]\n"
          ]
        }
      ]
    },
    {
      "cell_type": "code",
      "source": [
        "X_train, X_test, y_train, y_test = train_test_split(x, y, test_size = 0.2, random_state = 0)"
      ],
      "metadata": {
        "id": "wYwOEISC_WRs"
      },
      "execution_count": 138,
      "outputs": []
    },
    {
      "cell_type": "code",
      "source": [
        "print(X_train.shape, X_test.shape)\n",
        "print(y_train.shape, y_test.shape)\n"
      ],
      "metadata": {
        "colab": {
          "base_uri": "https://localhost:8080/"
        },
        "id": "89Z7XjyY_t69",
        "outputId": "72782721-1390-4768-dc82-c431f787229c"
      },
      "execution_count": 139,
      "outputs": [
        {
          "output_type": "stream",
          "name": "stdout",
          "text": [
            "(8024, 7) (2006, 7)\n",
            "(8024,) (2006,)\n"
          ]
        }
      ]
    },
    {
      "cell_type": "code",
      "source": [
        "sc = StandardScaler()\n",
        "X_train = sc.fit_transform(X_train)\n",
        "X_test = sc.transform(X_test)"
      ],
      "metadata": {
        "id": "N6NnzBfKx6rd"
      },
      "execution_count": 141,
      "outputs": []
    },
    {
      "cell_type": "markdown",
      "source": [
        "#----------------------- Building the model -----------------------#"
      ],
      "metadata": {
        "id": "VYYJ9aR7_5UY"
      }
    },
    {
      "cell_type": "code",
      "source": [
        "# Initializing the ANN by calling the Sequential class fromm keras of Tensorflow\n",
        "ann = tf.keras.models.Sequential()"
      ],
      "metadata": {
        "id": "nF-WbhEZ__00"
      },
      "execution_count": 142,
      "outputs": []
    },
    {
      "cell_type": "code",
      "source": [
        "#----------------------------------------------------------------------------------\n",
        "# Adding \"fully connected\" INPUT layer to the Sequential ANN by calling Dense class\n",
        "#----------------------------------------------------------------------------------\n",
        "# Number of Units = 6 and Activation Function = Rectifier\n",
        "ann.add(tf.keras.layers.Dense(units = 6, activation = 'relu'))"
      ],
      "metadata": {
        "id": "6b1AMhKsARuc"
      },
      "execution_count": 143,
      "outputs": []
    },
    {
      "cell_type": "code",
      "source": [
        "#----------------------------------------------------------------------------------\n",
        "# Adding \"fully connected\" SECOND layer to the Sequential AMM by calling Dense class\n",
        "#----------------------------------------------------------------------------------\n",
        "# Number of Units = 6 and Activation Function = Rectifier\n",
        "ann.add(tf.keras.layers.Dense(units = 6, activation = 'relu'))"
      ],
      "metadata": {
        "id": "7hRFlRpeAY-y"
      },
      "execution_count": 144,
      "outputs": []
    },
    {
      "cell_type": "code",
      "source": [
        "#----------------------------------------------------------------------------------\n",
        "# Adding \"fully connected\" OUTPUT layer to the Sequential ANN by calling Dense class\n",
        "#----------------------------------------------------------------------------------\n",
        "# Number of Units = 1 and Activation Function = Sigmoid\n",
        "ann.add(tf.keras.layers.Dense(units = 1, activation = 'sigmoid'))"
      ],
      "metadata": {
        "id": "jOuc9k17Anqo"
      },
      "execution_count": 145,
      "outputs": []
    },
    {
      "cell_type": "code",
      "source": [
        "#----------------------- Training the model -----------------------#\n",
        "# Compiling the ANN\n",
        "# Type of Optimizer = Adam Optimizer, Loss Function =  crossentropy for binary dependent variable, and Optimization is done w.r.t. accuracy\n",
        "ann.compile(optimizer = 'adam', loss = 'binary_crossentropy', metrics = ['accuracy'])"
      ],
      "metadata": {
        "id": "4tRFHuzNAy8M"
      },
      "execution_count": 146,
      "outputs": []
    },
    {
      "cell_type": "code",
      "source": [
        "ann.fit(X_train, y_train, batch_size = 32, epochs = 100)"
      ],
      "metadata": {
        "colab": {
          "base_uri": "https://localhost:8080/"
        },
        "id": "SOosKEqwA5bN",
        "outputId": "ff7c9835-ad89-4c01-aa5e-ef83ee6c85aa"
      },
      "execution_count": 147,
      "outputs": [
        {
          "output_type": "stream",
          "name": "stdout",
          "text": [
            "Epoch 1/100\n",
            "251/251 [==============================] - 1s 1ms/step - loss: -196.3857 - accuracy: 0.0000e+00\n",
            "Epoch 2/100\n",
            "251/251 [==============================] - 0s 1ms/step - loss: -1941.3613 - accuracy: 0.0000e+00\n",
            "Epoch 3/100\n",
            "251/251 [==============================] - 0s 1ms/step - loss: -8566.1514 - accuracy: 0.0000e+00\n",
            "Epoch 4/100\n",
            "251/251 [==============================] - 0s 1ms/step - loss: -23246.4258 - accuracy: 0.0000e+00\n",
            "Epoch 5/100\n",
            "251/251 [==============================] - 0s 2ms/step - loss: -47884.0273 - accuracy: 0.0000e+00\n",
            "Epoch 6/100\n",
            "251/251 [==============================] - 0s 2ms/step - loss: -84053.0938 - accuracy: 0.0000e+00\n",
            "Epoch 7/100\n",
            "251/251 [==============================] - 1s 2ms/step - loss: -132840.7031 - accuracy: 0.0000e+00\n",
            "Epoch 8/100\n",
            "251/251 [==============================] - 1s 2ms/step - loss: -195263.1094 - accuracy: 0.0000e+00\n",
            "Epoch 9/100\n",
            "251/251 [==============================] - 1s 2ms/step - loss: -271944.7500 - accuracy: 0.0000e+00\n",
            "Epoch 10/100\n",
            "251/251 [==============================] - 1s 3ms/step - loss: -363579.0938 - accuracy: 0.0000e+00\n",
            "Epoch 11/100\n",
            "251/251 [==============================] - 1s 3ms/step - loss: -470617.2500 - accuracy: 0.0000e+00\n",
            "Epoch 12/100\n",
            "251/251 [==============================] - 0s 1ms/step - loss: -593495.8750 - accuracy: 0.0000e+00\n",
            "Epoch 13/100\n",
            "251/251 [==============================] - 0s 1ms/step - loss: -732885.3750 - accuracy: 0.0000e+00\n",
            "Epoch 14/100\n",
            "251/251 [==============================] - 0s 1ms/step - loss: -889293.0625 - accuracy: 0.0000e+00\n",
            "Epoch 15/100\n",
            "251/251 [==============================] - 0s 1ms/step - loss: -1063185.3750 - accuracy: 0.0000e+00\n",
            "Epoch 16/100\n",
            "251/251 [==============================] - 0s 1ms/step - loss: -1254983.7500 - accuracy: 0.0000e+00\n",
            "Epoch 17/100\n",
            "251/251 [==============================] - 0s 1ms/step - loss: -1465006.5000 - accuracy: 0.0000e+00\n",
            "Epoch 18/100\n",
            "251/251 [==============================] - 0s 1ms/step - loss: -1693850.3750 - accuracy: 0.0000e+00\n",
            "Epoch 19/100\n",
            "251/251 [==============================] - 0s 1ms/step - loss: -1941781.1250 - accuracy: 0.0000e+00\n",
            "Epoch 20/100\n",
            "251/251 [==============================] - 0s 1ms/step - loss: -2209042.5000 - accuracy: 0.0000e+00\n",
            "Epoch 21/100\n",
            "251/251 [==============================] - 0s 1ms/step - loss: -2496338.2500 - accuracy: 0.0000e+00\n",
            "Epoch 22/100\n",
            "251/251 [==============================] - 0s 1ms/step - loss: -2804127.2500 - accuracy: 0.0000e+00\n",
            "Epoch 23/100\n",
            "251/251 [==============================] - 0s 1ms/step - loss: -3133013.2500 - accuracy: 0.0000e+00\n",
            "Epoch 24/100\n",
            "251/251 [==============================] - 0s 1ms/step - loss: -3482882.2500 - accuracy: 0.0000e+00\n",
            "Epoch 25/100\n",
            "251/251 [==============================] - 0s 1ms/step - loss: -3854695.7500 - accuracy: 0.0000e+00\n",
            "Epoch 26/100\n",
            "251/251 [==============================] - 0s 1ms/step - loss: -4249081.5000 - accuracy: 0.0000e+00\n",
            "Epoch 27/100\n",
            "251/251 [==============================] - 0s 1ms/step - loss: -4666019.5000 - accuracy: 0.0000e+00\n",
            "Epoch 28/100\n",
            "251/251 [==============================] - 0s 1ms/step - loss: -5105897.0000 - accuracy: 0.0000e+00\n",
            "Epoch 29/100\n",
            "251/251 [==============================] - 0s 1ms/step - loss: -5569579.0000 - accuracy: 0.0000e+00\n",
            "Epoch 30/100\n",
            "251/251 [==============================] - 0s 1ms/step - loss: -6057661.5000 - accuracy: 0.0000e+00\n",
            "Epoch 31/100\n",
            "251/251 [==============================] - 0s 1ms/step - loss: -6570317.5000 - accuracy: 0.0000e+00\n",
            "Epoch 32/100\n",
            "251/251 [==============================] - 0s 1ms/step - loss: -7107866.5000 - accuracy: 0.0000e+00\n",
            "Epoch 33/100\n",
            "251/251 [==============================] - 0s 1ms/step - loss: -7670810.5000 - accuracy: 0.0000e+00\n",
            "Epoch 34/100\n",
            "251/251 [==============================] - 0s 1ms/step - loss: -8260148.0000 - accuracy: 0.0000e+00\n",
            "Epoch 35/100\n",
            "251/251 [==============================] - 0s 1ms/step - loss: -8876284.0000 - accuracy: 0.0000e+00\n",
            "Epoch 36/100\n",
            "251/251 [==============================] - 0s 1ms/step - loss: -9519928.0000 - accuracy: 0.0000e+00\n",
            "Epoch 37/100\n",
            "251/251 [==============================] - 0s 1ms/step - loss: -10190846.0000 - accuracy: 0.0000e+00\n",
            "Epoch 38/100\n",
            "251/251 [==============================] - 0s 1ms/step - loss: -10889095.0000 - accuracy: 0.0000e+00\n",
            "Epoch 39/100\n",
            "251/251 [==============================] - 0s 1ms/step - loss: -11615778.0000 - accuracy: 0.0000e+00\n",
            "Epoch 40/100\n",
            "251/251 [==============================] - 0s 1ms/step - loss: -12371295.0000 - accuracy: 0.0000e+00\n",
            "Epoch 41/100\n",
            "251/251 [==============================] - 0s 1ms/step - loss: -13155824.0000 - accuracy: 0.0000e+00\n",
            "Epoch 42/100\n",
            "251/251 [==============================] - 0s 1ms/step - loss: -13969756.0000 - accuracy: 0.0000e+00\n",
            "Epoch 43/100\n",
            "251/251 [==============================] - 0s 1ms/step - loss: -14814216.0000 - accuracy: 0.0000e+00\n",
            "Epoch 44/100\n",
            "251/251 [==============================] - 0s 1ms/step - loss: -15690039.0000 - accuracy: 0.0000e+00\n",
            "Epoch 45/100\n",
            "251/251 [==============================] - 0s 1ms/step - loss: -16596354.0000 - accuracy: 0.0000e+00\n",
            "Epoch 46/100\n",
            "251/251 [==============================] - 0s 1ms/step - loss: -17534614.0000 - accuracy: 0.0000e+00\n",
            "Epoch 47/100\n",
            "251/251 [==============================] - 0s 1ms/step - loss: -18504654.0000 - accuracy: 0.0000e+00\n",
            "Epoch 48/100\n",
            "251/251 [==============================] - 0s 1ms/step - loss: -19507070.0000 - accuracy: 0.0000e+00\n",
            "Epoch 49/100\n",
            "251/251 [==============================] - 0s 1ms/step - loss: -20543532.0000 - accuracy: 0.0000e+00\n",
            "Epoch 50/100\n",
            "251/251 [==============================] - 0s 1ms/step - loss: -21614468.0000 - accuracy: 0.0000e+00\n",
            "Epoch 51/100\n",
            "251/251 [==============================] - 0s 1ms/step - loss: -22718810.0000 - accuracy: 0.0000e+00\n",
            "Epoch 52/100\n",
            "251/251 [==============================] - 0s 1ms/step - loss: -23857754.0000 - accuracy: 0.0000e+00\n",
            "Epoch 53/100\n",
            "251/251 [==============================] - 0s 1ms/step - loss: -25032278.0000 - accuracy: 0.0000e+00\n",
            "Epoch 54/100\n",
            "251/251 [==============================] - 0s 1ms/step - loss: -26242626.0000 - accuracy: 0.0000e+00\n",
            "Epoch 55/100\n",
            "251/251 [==============================] - 0s 1ms/step - loss: -27488314.0000 - accuracy: 0.0000e+00\n",
            "Epoch 56/100\n",
            "251/251 [==============================] - 0s 1ms/step - loss: -28770154.0000 - accuracy: 0.0000e+00\n",
            "Epoch 57/100\n",
            "251/251 [==============================] - 0s 1ms/step - loss: -30089314.0000 - accuracy: 0.0000e+00\n",
            "Epoch 58/100\n",
            "251/251 [==============================] - 0s 1ms/step - loss: -31445624.0000 - accuracy: 0.0000e+00\n",
            "Epoch 59/100\n",
            "251/251 [==============================] - 0s 1ms/step - loss: -32839100.0000 - accuracy: 0.0000e+00\n",
            "Epoch 60/100\n",
            "251/251 [==============================] - 0s 1ms/step - loss: -34269636.0000 - accuracy: 0.0000e+00\n",
            "Epoch 61/100\n",
            "251/251 [==============================] - 0s 1ms/step - loss: -35739336.0000 - accuracy: 0.0000e+00\n",
            "Epoch 62/100\n",
            "251/251 [==============================] - 0s 1ms/step - loss: -37248608.0000 - accuracy: 0.0000e+00\n",
            "Epoch 63/100\n",
            "251/251 [==============================] - 0s 1ms/step - loss: -38798032.0000 - accuracy: 0.0000e+00\n",
            "Epoch 64/100\n",
            "251/251 [==============================] - 0s 1ms/step - loss: -40387124.0000 - accuracy: 0.0000e+00\n",
            "Epoch 65/100\n",
            "251/251 [==============================] - 0s 1ms/step - loss: -42016132.0000 - accuracy: 0.0000e+00\n",
            "Epoch 66/100\n",
            "251/251 [==============================] - 0s 1ms/step - loss: -43685280.0000 - accuracy: 0.0000e+00\n",
            "Epoch 67/100\n",
            "251/251 [==============================] - 0s 1ms/step - loss: -45394872.0000 - accuracy: 0.0000e+00\n",
            "Epoch 68/100\n",
            "251/251 [==============================] - 0s 1ms/step - loss: -47145480.0000 - accuracy: 0.0000e+00\n",
            "Epoch 69/100\n",
            "251/251 [==============================] - 0s 1ms/step - loss: -48938840.0000 - accuracy: 0.0000e+00\n",
            "Epoch 70/100\n",
            "251/251 [==============================] - 0s 1ms/step - loss: -50775676.0000 - accuracy: 0.0000e+00\n",
            "Epoch 71/100\n",
            "251/251 [==============================] - 0s 1ms/step - loss: -52655548.0000 - accuracy: 0.0000e+00\n",
            "Epoch 72/100\n",
            "251/251 [==============================] - 0s 1ms/step - loss: -54579152.0000 - accuracy: 0.0000e+00\n",
            "Epoch 73/100\n",
            "251/251 [==============================] - 0s 1ms/step - loss: -56548676.0000 - accuracy: 0.0000e+00\n",
            "Epoch 74/100\n",
            "251/251 [==============================] - 0s 1ms/step - loss: -58563892.0000 - accuracy: 0.0000e+00\n",
            "Epoch 75/100\n",
            "251/251 [==============================] - 0s 1ms/step - loss: -60624976.0000 - accuracy: 0.0000e+00\n",
            "Epoch 76/100\n",
            "251/251 [==============================] - 0s 1ms/step - loss: -62731348.0000 - accuracy: 0.0000e+00\n",
            "Epoch 77/100\n",
            "251/251 [==============================] - 0s 1ms/step - loss: -64883068.0000 - accuracy: 0.0000e+00\n",
            "Epoch 78/100\n",
            "251/251 [==============================] - 0s 1ms/step - loss: -67082864.0000 - accuracy: 0.0000e+00\n",
            "Epoch 79/100\n",
            "251/251 [==============================] - 0s 1ms/step - loss: -69328136.0000 - accuracy: 0.0000e+00\n",
            "Epoch 80/100\n",
            "251/251 [==============================] - 0s 1ms/step - loss: -71619048.0000 - accuracy: 0.0000e+00\n",
            "Epoch 81/100\n",
            "251/251 [==============================] - 0s 1ms/step - loss: -73956896.0000 - accuracy: 0.0000e+00\n",
            "Epoch 82/100\n",
            "251/251 [==============================] - 0s 1ms/step - loss: -76341288.0000 - accuracy: 0.0000e+00\n",
            "Epoch 83/100\n",
            "251/251 [==============================] - 0s 1ms/step - loss: -78773872.0000 - accuracy: 0.0000e+00\n",
            "Epoch 84/100\n",
            "251/251 [==============================] - 0s 1ms/step - loss: -81256144.0000 - accuracy: 0.0000e+00\n",
            "Epoch 85/100\n",
            "251/251 [==============================] - 0s 1ms/step - loss: -83788376.0000 - accuracy: 0.0000e+00\n",
            "Epoch 86/100\n",
            "251/251 [==============================] - 0s 1ms/step - loss: -86371056.0000 - accuracy: 0.0000e+00\n",
            "Epoch 87/100\n",
            "251/251 [==============================] - 0s 1ms/step - loss: -89004736.0000 - accuracy: 0.0000e+00\n",
            "Epoch 88/100\n",
            "251/251 [==============================] - 0s 1ms/step - loss: -91690648.0000 - accuracy: 0.0000e+00\n",
            "Epoch 89/100\n",
            "251/251 [==============================] - 0s 1ms/step - loss: -94428224.0000 - accuracy: 0.0000e+00\n",
            "Epoch 90/100\n",
            "251/251 [==============================] - 0s 1ms/step - loss: -97216912.0000 - accuracy: 0.0000e+00\n",
            "Epoch 91/100\n",
            "251/251 [==============================] - 0s 1ms/step - loss: -100059496.0000 - accuracy: 0.0000e+00\n",
            "Epoch 92/100\n",
            "251/251 [==============================] - 0s 1ms/step - loss: -102954976.0000 - accuracy: 0.0000e+00\n",
            "Epoch 93/100\n",
            "251/251 [==============================] - 0s 1ms/step - loss: -105901480.0000 - accuracy: 0.0000e+00\n",
            "Epoch 94/100\n",
            "251/251 [==============================] - 0s 1ms/step - loss: -108899352.0000 - accuracy: 0.0000e+00\n",
            "Epoch 95/100\n",
            "251/251 [==============================] - 0s 1ms/step - loss: -111951416.0000 - accuracy: 0.0000e+00\n",
            "Epoch 96/100\n",
            "251/251 [==============================] - 0s 1ms/step - loss: -115058216.0000 - accuracy: 0.0000e+00\n",
            "Epoch 97/100\n",
            "251/251 [==============================] - 0s 1ms/step - loss: -118219856.0000 - accuracy: 0.0000e+00\n",
            "Epoch 98/100\n",
            "251/251 [==============================] - 0s 1ms/step - loss: -121436984.0000 - accuracy: 0.0000e+00\n",
            "Epoch 99/100\n",
            "251/251 [==============================] - 0s 1ms/step - loss: -124711120.0000 - accuracy: 0.0000e+00\n",
            "Epoch 100/100\n",
            "251/251 [==============================] - 0s 1ms/step - loss: -128040632.0000 - accuracy: 0.0000e+00\n"
          ]
        },
        {
          "output_type": "execute_result",
          "data": {
            "text/plain": [
              "<keras.callbacks.History at 0x7f5ba842a550>"
            ]
          },
          "metadata": {},
          "execution_count": 147
        }
      ]
    },
    {
      "cell_type": "code",
      "source": [
        "#print(X_test , \"train\", X_train)\n",
        "testDF =  pd.DataFrame(X_test, columns = ['X_test'])\n",
        "testDF['X_train'] = pd.DataFrame(X_train, columns = ['X_train'])\n",
        "print(testDF)"
      ],
      "metadata": {
        "colab": {
          "base_uri": "https://localhost:8080/",
          "height": 362
        },
        "id": "bftlHdrtA_Yo",
        "outputId": "c20652e1-abac-4650-adee-fd3950d4608e"
      },
      "execution_count": 123,
      "outputs": [
        {
          "output_type": "error",
          "ename": "ValueError",
          "evalue": "ignored",
          "traceback": [
            "\u001b[0;31m---------------------------------------------------------------------------\u001b[0m",
            "\u001b[0;31mValueError\u001b[0m                                Traceback (most recent call last)",
            "\u001b[0;32m<ipython-input-123-9337fbbe6e09>\u001b[0m in \u001b[0;36m<module>\u001b[0;34m()\u001b[0m\n\u001b[1;32m      1\u001b[0m \u001b[0;31m#print(X_test , \"train\", X_train)\u001b[0m\u001b[0;34m\u001b[0m\u001b[0;34m\u001b[0m\u001b[0;34m\u001b[0m\u001b[0m\n\u001b[0;32m----> 2\u001b[0;31m \u001b[0mtestDF\u001b[0m \u001b[0;34m=\u001b[0m  \u001b[0mpd\u001b[0m\u001b[0;34m.\u001b[0m\u001b[0mDataFrame\u001b[0m\u001b[0;34m(\u001b[0m\u001b[0mX_test\u001b[0m\u001b[0;34m,\u001b[0m \u001b[0mcolumns\u001b[0m \u001b[0;34m=\u001b[0m \u001b[0;34m[\u001b[0m\u001b[0;34m'X_test'\u001b[0m\u001b[0;34m]\u001b[0m\u001b[0;34m)\u001b[0m\u001b[0;34m\u001b[0m\u001b[0;34m\u001b[0m\u001b[0m\n\u001b[0m\u001b[1;32m      3\u001b[0m \u001b[0mtestDF\u001b[0m\u001b[0;34m[\u001b[0m\u001b[0;34m'X_train'\u001b[0m\u001b[0;34m]\u001b[0m \u001b[0;34m=\u001b[0m \u001b[0mpd\u001b[0m\u001b[0;34m.\u001b[0m\u001b[0mDataFrame\u001b[0m\u001b[0;34m(\u001b[0m\u001b[0mX_train\u001b[0m\u001b[0;34m,\u001b[0m \u001b[0mcolumns\u001b[0m \u001b[0;34m=\u001b[0m \u001b[0;34m[\u001b[0m\u001b[0;34m'X_train'\u001b[0m\u001b[0;34m]\u001b[0m\u001b[0;34m)\u001b[0m\u001b[0;34m\u001b[0m\u001b[0;34m\u001b[0m\u001b[0m\n\u001b[1;32m      4\u001b[0m \u001b[0mprint\u001b[0m\u001b[0;34m(\u001b[0m\u001b[0mtestDF\u001b[0m\u001b[0;34m)\u001b[0m\u001b[0;34m\u001b[0m\u001b[0;34m\u001b[0m\u001b[0m\n",
            "\u001b[0;32m/usr/local/lib/python3.7/dist-packages/pandas/core/frame.py\u001b[0m in \u001b[0;36m__init__\u001b[0;34m(self, data, index, columns, dtype, copy)\u001b[0m\n\u001b[1;32m    676\u001b[0m                     \u001b[0mdtype\u001b[0m\u001b[0;34m=\u001b[0m\u001b[0mdtype\u001b[0m\u001b[0;34m,\u001b[0m\u001b[0;34m\u001b[0m\u001b[0;34m\u001b[0m\u001b[0m\n\u001b[1;32m    677\u001b[0m                     \u001b[0mcopy\u001b[0m\u001b[0;34m=\u001b[0m\u001b[0mcopy\u001b[0m\u001b[0;34m,\u001b[0m\u001b[0;34m\u001b[0m\u001b[0;34m\u001b[0m\u001b[0m\n\u001b[0;32m--> 678\u001b[0;31m                     \u001b[0mtyp\u001b[0m\u001b[0;34m=\u001b[0m\u001b[0mmanager\u001b[0m\u001b[0;34m,\u001b[0m\u001b[0;34m\u001b[0m\u001b[0;34m\u001b[0m\u001b[0m\n\u001b[0m\u001b[1;32m    679\u001b[0m                 )\n\u001b[1;32m    680\u001b[0m \u001b[0;34m\u001b[0m\u001b[0m\n",
            "\u001b[0;32m/usr/local/lib/python3.7/dist-packages/pandas/core/internals/construction.py\u001b[0m in \u001b[0;36mndarray_to_mgr\u001b[0;34m(values, index, columns, dtype, copy, typ)\u001b[0m\n\u001b[1;32m    322\u001b[0m     )\n\u001b[1;32m    323\u001b[0m \u001b[0;34m\u001b[0m\u001b[0m\n\u001b[0;32m--> 324\u001b[0;31m     \u001b[0m_check_values_indices_shape_match\u001b[0m\u001b[0;34m(\u001b[0m\u001b[0mvalues\u001b[0m\u001b[0;34m,\u001b[0m \u001b[0mindex\u001b[0m\u001b[0;34m,\u001b[0m \u001b[0mcolumns\u001b[0m\u001b[0;34m)\u001b[0m\u001b[0;34m\u001b[0m\u001b[0;34m\u001b[0m\u001b[0m\n\u001b[0m\u001b[1;32m    325\u001b[0m \u001b[0;34m\u001b[0m\u001b[0m\n\u001b[1;32m    326\u001b[0m     \u001b[0;32mif\u001b[0m \u001b[0mtyp\u001b[0m \u001b[0;34m==\u001b[0m \u001b[0;34m\"array\"\u001b[0m\u001b[0;34m:\u001b[0m\u001b[0;34m\u001b[0m\u001b[0;34m\u001b[0m\u001b[0m\n",
            "\u001b[0;32m/usr/local/lib/python3.7/dist-packages/pandas/core/internals/construction.py\u001b[0m in \u001b[0;36m_check_values_indices_shape_match\u001b[0;34m(values, index, columns)\u001b[0m\n\u001b[1;32m    391\u001b[0m         \u001b[0mpassed\u001b[0m \u001b[0;34m=\u001b[0m \u001b[0mvalues\u001b[0m\u001b[0;34m.\u001b[0m\u001b[0mshape\u001b[0m\u001b[0;34m\u001b[0m\u001b[0;34m\u001b[0m\u001b[0m\n\u001b[1;32m    392\u001b[0m         \u001b[0mimplied\u001b[0m \u001b[0;34m=\u001b[0m \u001b[0;34m(\u001b[0m\u001b[0mlen\u001b[0m\u001b[0;34m(\u001b[0m\u001b[0mindex\u001b[0m\u001b[0;34m)\u001b[0m\u001b[0;34m,\u001b[0m \u001b[0mlen\u001b[0m\u001b[0;34m(\u001b[0m\u001b[0mcolumns\u001b[0m\u001b[0;34m)\u001b[0m\u001b[0;34m)\u001b[0m\u001b[0;34m\u001b[0m\u001b[0;34m\u001b[0m\u001b[0m\n\u001b[0;32m--> 393\u001b[0;31m         \u001b[0;32mraise\u001b[0m \u001b[0mValueError\u001b[0m\u001b[0;34m(\u001b[0m\u001b[0;34mf\"Shape of passed values is {passed}, indices imply {implied}\"\u001b[0m\u001b[0;34m)\u001b[0m\u001b[0;34m\u001b[0m\u001b[0;34m\u001b[0m\u001b[0m\n\u001b[0m\u001b[1;32m    394\u001b[0m \u001b[0;34m\u001b[0m\u001b[0m\n\u001b[1;32m    395\u001b[0m \u001b[0;34m\u001b[0m\u001b[0m\n",
            "\u001b[0;31mValueError\u001b[0m: Shape of passed values is (80, 8), indices imply (80, 1)"
          ]
        }
      ]
    },
    {
      "cell_type": "code",
      "source": [
        "print(ann.predict(sc.transform([[1, 0, 0, 600, 1, 40, 3, 60000, 2, 1, 1, 50000]])))"
      ],
      "metadata": {
        "id": "U0nnjmL7GwPW"
      },
      "execution_count": null,
      "outputs": []
    }
  ]
}